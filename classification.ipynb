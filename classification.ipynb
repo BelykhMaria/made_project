{
 "cells": [
  {
   "cell_type": "markdown",
   "metadata": {},
   "source": [
    "# import"
   ]
  },
  {
   "cell_type": "code",
   "execution_count": 30,
   "metadata": {},
   "outputs": [],
   "source": [
    "import pandas as pd\n",
    "import numpy as np\n",
    "import matplotlib.pyplot as plt\n",
    "import dill as pickle\n",
    "\n",
    "from sklearn.metrics import accuracy_score, f1_score, confusion_matrix\n",
    "from sklearn.model_selection import train_test_split\n",
    "\n",
    "\n",
    "from sklearn.linear_model import LogisticRegression\n",
    "from sklearn.model_selection import RepeatedStratifiedKFold\n",
    "from sklearn.model_selection import RandomizedSearchCV\n",
    "from scipy.stats import loguniform"
   ]
  },
  {
   "cell_type": "code",
   "execution_count": 2,
   "metadata": {},
   "outputs": [],
   "source": [
    "data = pd.read_csv(\"dataset_for_classification.csv\")"
   ]
  },
  {
   "cell_type": "code",
   "execution_count": 3,
   "metadata": {},
   "outputs": [],
   "source": [
    "from ast import literal_eval\n",
    "data.scaler = data.scaler.apply(literal_eval)"
   ]
  },
  {
   "cell_type": "code",
   "execution_count": 4,
   "metadata": {},
   "outputs": [
    {
     "name": "stderr",
     "output_type": "stream",
     "text": [
      "C:\\Users\\bmw_7\\anaconda3\\lib\\site-packages\\pandas\\core\\indexing.py:670: SettingWithCopyWarning: \n",
      "A value is trying to be set on a copy of a slice from a DataFrame\n",
      "\n",
      "See the caveats in the documentation: https://pandas.pydata.org/pandas-docs/stable/user_guide/indexing.html#returning-a-view-versus-a-copy\n",
      "  iloc._setitem_with_indexer(indexer, value)\n"
     ]
    }
   ],
   "source": [
    "for i in range(len(data)):\n",
    "    data.scaler.iloc[i] = np.asarray(data.scaler.iloc[i])"
   ]
  },
  {
   "cell_type": "code",
   "execution_count": 5,
   "metadata": {},
   "outputs": [
    {
     "data": {
      "text/html": [
       "<div>\n",
       "<style scoped>\n",
       "    .dataframe tbody tr th:only-of-type {\n",
       "        vertical-align: middle;\n",
       "    }\n",
       "\n",
       "    .dataframe tbody tr th {\n",
       "        vertical-align: top;\n",
       "    }\n",
       "\n",
       "    .dataframe thead th {\n",
       "        text-align: right;\n",
       "    }\n",
       "</style>\n",
       "<table border=\"1\" class=\"dataframe\">\n",
       "  <thead>\n",
       "    <tr style=\"text-align: right;\">\n",
       "      <th></th>\n",
       "      <th>tokens</th>\n",
       "      <th>_id</th>\n",
       "      <th>vector</th>\n",
       "      <th>labels</th>\n",
       "      <th>scaler</th>\n",
       "    </tr>\n",
       "  </thead>\n",
       "  <tbody>\n",
       "    <tr>\n",
       "      <th>0</th>\n",
       "      <td>['disasters', 'north', 'china', 'plain', 'soil...</td>\n",
       "      <td>53e99784b7602d9701f3e133</td>\n",
       "      <td>[[ 2.68383441e-03]\\n [ 1.61278725e-03]\\n [ 7.1...</td>\n",
       "      <td>6</td>\n",
       "      <td>[0.4734036922454834, 0.45486414432525635, 0.48...</td>\n",
       "    </tr>\n",
       "    <tr>\n",
       "      <th>1</th>\n",
       "      <td>['variations', 'deep', 'submicron', 'shift', '...</td>\n",
       "      <td>53e99784b7602d9701f3e15d</td>\n",
       "      <td>[[ 3.46962526e-03]\\n [ 3.37738288e-03]\\n [ 1.0...</td>\n",
       "      <td>0</td>\n",
       "      <td>[0.538163423538208, 0.6303530931472778, 0.6656...</td>\n",
       "    </tr>\n",
       "    <tr>\n",
       "      <th>2</th>\n",
       "      <td>['constructing', 'cope', 'dynamically', 'chang...</td>\n",
       "      <td>53e99784b7602d9701f3eaf2</td>\n",
       "      <td>[[ 0.0031892 ]\\n [ 0.00229762]\\n [ 0.01008034]...</td>\n",
       "      <td>2</td>\n",
       "      <td>[0.5150524973869324, 0.5229702591896057, 0.626...</td>\n",
       "    </tr>\n",
       "    <tr>\n",
       "      <th>3</th>\n",
       "      <td>['welcome', 'proceedings', 'foreword']</td>\n",
       "      <td>53e99784b7602d9701f3f8c1</td>\n",
       "      <td>[[ 2.34201993e-03]\\n [ 1.24823477e-03]\\n [ 4.3...</td>\n",
       "      <td>5</td>\n",
       "      <td>[0.4452335834503174, 0.4186094403266907, 0.347...</td>\n",
       "    </tr>\n",
       "    <tr>\n",
       "      <th>4</th>\n",
       "      <td>['biomolecular', 'molecular', 'biology', 'cont...</td>\n",
       "      <td>53e99784b7602d9701f3f8c2</td>\n",
       "      <td>[[ 3.22724599e-03]\\n [ 2.78100441e-03]\\n [ 9.0...</td>\n",
       "      <td>4</td>\n",
       "      <td>[0.5181881189346313, 0.5710432529449463, 0.576...</td>\n",
       "    </tr>\n",
       "    <tr>\n",
       "      <th>...</th>\n",
       "      <td>...</td>\n",
       "      <td>...</td>\n",
       "      <td>...</td>\n",
       "      <td>...</td>\n",
       "      <td>...</td>\n",
       "    </tr>\n",
       "    <tr>\n",
       "      <th>17949</th>\n",
       "      <td>['witnessed', 'explosive', 'exciting', 'growth...</td>\n",
       "      <td>53e99808b7602d970201b271</td>\n",
       "      <td>[[ 3.89132742e-03]\\n [ 2.55690538e-03]\\n [ 8.5...</td>\n",
       "      <td>4</td>\n",
       "      <td>[0.5729172825813293, 0.5487566590309143, 0.551...</td>\n",
       "    </tr>\n",
       "    <tr>\n",
       "      <th>17950</th>\n",
       "      <td>['reducing', 'ambiguity', 'multimodal', 'conta...</td>\n",
       "      <td>53e99808b7602d970201b980</td>\n",
       "      <td>[[ 2.74068583e-03]\\n [ 2.09732424e-03]\\n [ 8.6...</td>\n",
       "      <td>4</td>\n",
       "      <td>[0.47808900475502014, 0.5030513405799866, 0.55...</td>\n",
       "    </tr>\n",
       "    <tr>\n",
       "      <th>17951</th>\n",
       "      <td>['deal', 'czech', 'mwe', 'containing', 'moment...</td>\n",
       "      <td>53e99808b7602d970201b981</td>\n",
       "      <td>[[ 2.86594988e-03]\\n [ 1.62041571e-03]\\n [ 6.7...</td>\n",
       "      <td>6</td>\n",
       "      <td>[0.48841243982315063, 0.4556227922439575, 0.46...</td>\n",
       "    </tr>\n",
       "    <tr>\n",
       "      <th>17952</th>\n",
       "      <td>['interested', 'layer', 'completely', 'portabl...</td>\n",
       "      <td>53e99808b7602d970201b982</td>\n",
       "      <td>[[ 2.53269635e-03]\\n [ 2.72065308e-03]\\n [ 7.8...</td>\n",
       "      <td>1</td>\n",
       "      <td>[0.4609478712081909, 0.5650413632392883, 0.520...</td>\n",
       "    </tr>\n",
       "    <tr>\n",
       "      <th>17953</th>\n",
       "      <td>['detailed', 'weak', 'fragments', 'modal', 'fr...</td>\n",
       "      <td>53e99808b7602d970201ba11</td>\n",
       "      <td>[[ 0.00403497]\\n [ 0.00293379]\\n [ 0.00882516]...</td>\n",
       "      <td>2</td>\n",
       "      <td>[0.5847551226615906, 0.5862376689910889, 0.565...</td>\n",
       "    </tr>\n",
       "  </tbody>\n",
       "</table>\n",
       "<p>17954 rows × 5 columns</p>\n",
       "</div>"
      ],
      "text/plain": [
       "                                                  tokens  \\\n",
       "0      ['disasters', 'north', 'china', 'plain', 'soil...   \n",
       "1      ['variations', 'deep', 'submicron', 'shift', '...   \n",
       "2      ['constructing', 'cope', 'dynamically', 'chang...   \n",
       "3                 ['welcome', 'proceedings', 'foreword']   \n",
       "4      ['biomolecular', 'molecular', 'biology', 'cont...   \n",
       "...                                                  ...   \n",
       "17949  ['witnessed', 'explosive', 'exciting', 'growth...   \n",
       "17950  ['reducing', 'ambiguity', 'multimodal', 'conta...   \n",
       "17951  ['deal', 'czech', 'mwe', 'containing', 'moment...   \n",
       "17952  ['interested', 'layer', 'completely', 'portabl...   \n",
       "17953  ['detailed', 'weak', 'fragments', 'modal', 'fr...   \n",
       "\n",
       "                            _id  \\\n",
       "0      53e99784b7602d9701f3e133   \n",
       "1      53e99784b7602d9701f3e15d   \n",
       "2      53e99784b7602d9701f3eaf2   \n",
       "3      53e99784b7602d9701f3f8c1   \n",
       "4      53e99784b7602d9701f3f8c2   \n",
       "...                         ...   \n",
       "17949  53e99808b7602d970201b271   \n",
       "17950  53e99808b7602d970201b980   \n",
       "17951  53e99808b7602d970201b981   \n",
       "17952  53e99808b7602d970201b982   \n",
       "17953  53e99808b7602d970201ba11   \n",
       "\n",
       "                                                  vector  labels  \\\n",
       "0      [[ 2.68383441e-03]\\n [ 1.61278725e-03]\\n [ 7.1...       6   \n",
       "1      [[ 3.46962526e-03]\\n [ 3.37738288e-03]\\n [ 1.0...       0   \n",
       "2      [[ 0.0031892 ]\\n [ 0.00229762]\\n [ 0.01008034]...       2   \n",
       "3      [[ 2.34201993e-03]\\n [ 1.24823477e-03]\\n [ 4.3...       5   \n",
       "4      [[ 3.22724599e-03]\\n [ 2.78100441e-03]\\n [ 9.0...       4   \n",
       "...                                                  ...     ...   \n",
       "17949  [[ 3.89132742e-03]\\n [ 2.55690538e-03]\\n [ 8.5...       4   \n",
       "17950  [[ 2.74068583e-03]\\n [ 2.09732424e-03]\\n [ 8.6...       4   \n",
       "17951  [[ 2.86594988e-03]\\n [ 1.62041571e-03]\\n [ 6.7...       6   \n",
       "17952  [[ 2.53269635e-03]\\n [ 2.72065308e-03]\\n [ 7.8...       1   \n",
       "17953  [[ 0.00403497]\\n [ 0.00293379]\\n [ 0.00882516]...       2   \n",
       "\n",
       "                                                  scaler  \n",
       "0      [0.4734036922454834, 0.45486414432525635, 0.48...  \n",
       "1      [0.538163423538208, 0.6303530931472778, 0.6656...  \n",
       "2      [0.5150524973869324, 0.5229702591896057, 0.626...  \n",
       "3      [0.4452335834503174, 0.4186094403266907, 0.347...  \n",
       "4      [0.5181881189346313, 0.5710432529449463, 0.576...  \n",
       "...                                                  ...  \n",
       "17949  [0.5729172825813293, 0.5487566590309143, 0.551...  \n",
       "17950  [0.47808900475502014, 0.5030513405799866, 0.55...  \n",
       "17951  [0.48841243982315063, 0.4556227922439575, 0.46...  \n",
       "17952  [0.4609478712081909, 0.5650413632392883, 0.520...  \n",
       "17953  [0.5847551226615906, 0.5862376689910889, 0.565...  \n",
       "\n",
       "[17954 rows x 5 columns]"
      ]
     },
     "execution_count": 5,
     "metadata": {},
     "output_type": "execute_result"
    }
   ],
   "source": [
    "data"
   ]
  },
  {
   "cell_type": "code",
   "execution_count": 6,
   "metadata": {},
   "outputs": [],
   "source": [
    "def random_search_lr(X_train: pd.DataFrame, y_train: np.ndarray, n_jobs: int = -1, verbose: int  = 2):\n",
    "    logreg = LogisticRegression(multi_class='multinomial')\n",
    "    cv = RepeatedStratifiedKFold(n_splits=10, n_repeats=3, random_state=1)\n",
    "    space = {\n",
    "            \"C\": loguniform(1e-3, 10),\n",
    "            \"penalty\": ['none', 'l1', 'l2', 'elasticnet'],\n",
    "            \"class_weight\": [\"balanced\", 'none'],\n",
    "            \"solver\": [\"lbfgs\", \"sag\", \"saga\", \"newton-cg\"]\n",
    "            }\n",
    "    search = RandomizedSearchCV(logreg, space, n_iter=100, n_jobs=n_jobs, cv=cv, verbose=verbose, random_state=1, refit='f1_weighted', scoring='f1_weighted')\n",
    "    search.fit(X_train, y_train)\n",
    "    print(f\"best score: {search.best_score_}\")\n",
    "    print(f\"best params: {search.best_params_}\")\n",
    "    return search.best_params_"
   ]
  },
  {
   "cell_type": "code",
   "execution_count": 7,
   "metadata": {},
   "outputs": [],
   "source": [
    "def fit_lr_random(X_train: pd.DataFrame, y_train: np.ndarray, param_random: dict, n_jobs: int = -1):\n",
    "    lr = LogisticRegression(**param_random, n_jobs=n_jobs, random_state=1)\n",
    "    lr.fit(X_train, y_train)\n",
    "    return lr"
   ]
  },
  {
   "cell_type": "code",
   "execution_count": 8,
   "metadata": {},
   "outputs": [],
   "source": [
    "def fit_lr(X_train: pd.DataFrame, y_train: np.ndarray, n_jobs: int = -1):\n",
    "    lr = LogisticRegression(n_jobs=n_jobs, random_state=1)\n",
    "    lr.fit(X_train, y_train)\n",
    "    return lr"
   ]
  },
  {
   "cell_type": "code",
   "execution_count": 9,
   "metadata": {},
   "outputs": [],
   "source": [
    "def convert_to_array(X):\n",
    "    l = [X[i] for i in range(X.shape[0])]\n",
    "    return np.vstack(l)"
   ]
  },
  {
   "cell_type": "code",
   "execution_count": 10,
   "metadata": {},
   "outputs": [],
   "source": [
    "def save_model(model, name_model: str):\n",
    "#     logger.info(f\"Save model {name_model}\")\n",
    "    pickle.dump(model, open(f\"models/{name_model}.pkl\", \"wb\"))"
   ]
  },
  {
   "cell_type": "code",
   "execution_count": 11,
   "metadata": {},
   "outputs": [],
   "source": [
    "def predict(clf, X: pd.DataFrame):\n",
    "    return clf.predict(X), clf.predict_proba(X)"
   ]
  },
  {
   "cell_type": "code",
   "execution_count": 34,
   "metadata": {},
   "outputs": [],
   "source": [
    "def score(y: np.ndarray, y_pred: np.ndarray):\n",
    "    print(\"accuracy: \", accuracy_score(y, y_pred))\n",
    "    print(\"f1_macro: \", f1_score(y, y_pred, average='macro'))\n",
    "    print(\"f1_micro: \", f1_score(y, y_pred, average='micro'))"
   ]
  },
  {
   "cell_type": "code",
   "execution_count": 14,
   "metadata": {},
   "outputs": [],
   "source": [
    "X_train, X_test, y_train, y_test = train_test_split(data.scaler.values, data.labels.values, test_size=0.3, random_state=42)\n",
    "X_train = convert_to_array(X_train)\n",
    "# print(random_search_lr(X_train, y_train))\n",
    "# rand_params = random_search_lr(X_train, y_train)\n",
    "# lr_random = fit_lr_random(X_train, y_train, rand_params)\n",
    "lr = fit_lr(X_train, y_train)\n",
    "\n",
    "save_model(lr, \"lr_optimal\")"
   ]
  },
  {
   "cell_type": "code",
   "execution_count": 35,
   "metadata": {},
   "outputs": [
    {
     "name": "stdout",
     "output_type": "stream",
     "text": [
      "accuracy:  0.9606459996287359\n",
      "f1_macro:  0.9272407230456963\n",
      "f1_micro:  0.9606459996287359\n"
     ]
    }
   ],
   "source": [
    "X_test = convert_to_array(X_test)\n",
    "y_pred, y_pred_proba = predict(lr, X_test)\n",
    "score(y_test, y_pred)"
   ]
  }
 ],
 "metadata": {
  "kernelspec": {
   "display_name": "Python 3",
   "language": "python",
   "name": "python3"
  },
  "language_info": {
   "codemirror_mode": {
    "name": "ipython",
    "version": 3
   },
   "file_extension": ".py",
   "mimetype": "text/x-python",
   "name": "python",
   "nbconvert_exporter": "python",
   "pygments_lexer": "ipython3",
   "version": "3.8.5"
  }
 },
 "nbformat": 4,
 "nbformat_minor": 4
}
